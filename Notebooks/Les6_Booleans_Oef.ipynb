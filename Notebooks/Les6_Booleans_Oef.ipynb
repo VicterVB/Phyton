{
 "cells": [
  {
   "cell_type": "markdown",
   "id": "fb086e2d",
   "metadata": {
    "id": "fb086e2d"
   },
   "source": [
    "# Les 6: Boolean data type\n",
    "\n",
    "## Opgaven"
   ]
  },
  {
   "cell_type": "markdown",
   "id": "rWHumQMeUVIO",
   "metadata": {
    "id": "rWHumQMeUVIO"
   },
   "source": [
    "### Oefening 1\n",
    "Ga het resultaat na van de volgende expressies\n",
    "\n",
    "- (0 <= a) and (a <= 5) waarbij a = 5\n",
    "- (X > 2) or (X > 5) waarbij X = 3\n",
    "- 2 > 5 or 6 * 2 <= 12 and 7 < 3\n",
    "- True and False or True and False"
   ]
  },
  {
   "cell_type": "code",
   "execution_count": 1,
   "id": "vPK5lyCPquDl",
   "metadata": {
    "id": "vPK5lyCPquDl"
   },
   "outputs": [
    {
     "data": {
      "text/plain": [
       "True"
      ]
     },
     "execution_count": 1,
     "metadata": {},
     "output_type": "execute_result"
    }
   ],
   "source": [
    "a = 5\n",
    "(0 <= a) and (a <= 5)"
   ]
  },
  {
   "cell_type": "code",
   "execution_count": 2,
   "id": "68e9ea42",
   "metadata": {},
   "outputs": [
    {
     "data": {
      "text/plain": [
       "True"
      ]
     },
     "execution_count": 2,
     "metadata": {},
     "output_type": "execute_result"
    }
   ],
   "source": [
    "X = 3\n",
    "(X > 2) or (X > 5)"
   ]
  },
  {
   "cell_type": "code",
   "execution_count": 3,
   "id": "aac06605",
   "metadata": {},
   "outputs": [
    {
     "data": {
      "text/plain": [
       "False"
      ]
     },
     "execution_count": 3,
     "metadata": {},
     "output_type": "execute_result"
    }
   ],
   "source": [
    "2 > 5 or 6 * 2 <= 12 and 7 < 3"
   ]
  },
  {
   "cell_type": "code",
   "execution_count": 4,
   "metadata": {},
   "outputs": [
    {
     "data": {
      "text/plain": [
       "False"
      ]
     },
     "execution_count": 4,
     "metadata": {},
     "output_type": "execute_result"
    }
   ],
   "source": [
    "True and False or True and False"
   ]
  },
  {
   "cell_type": "markdown",
   "id": "b5f15f16",
   "metadata": {
    "id": "b5f15f16"
   },
   "source": [
    "### Oefening 2\n",
    "\n",
    "- Schrijf een functie genaamd `deelbaar` die een getal accepteert en `True` retourneert als het getal even is (deelbaar door 2) en `False` als het oneven is.\n",
    "- Breid deze functie uit met 1 extra input. De functie gaat na of het eerste getal deelbaar is door het tweede getal. Doe dit door je vorige functie te herschrijven met een optionele parameter, waardoor je deze ook nog steeds met 1 parameter kan aanroepen en de deelbaarheid door 2 getest wordt.\n",
    "\n",
    "\n"
   ]
  },
  {
   "cell_type": "code",
   "execution_count": 27,
   "id": "g56dcQodqwUn",
   "metadata": {
    "id": "g56dcQodqwUn"
   },
   "outputs": [
    {
     "data": {
      "text/plain": [
       "True"
      ]
     },
     "execution_count": 27,
     "metadata": {},
     "output_type": "execute_result"
    }
   ],
   "source": [
    "def deelbaar (getal, getal2 = 2):\n",
    "    uitkomst = True if getal % getal2 == 0 else False\n",
    "    return uitkomst\n",
    "\n",
    "deelbaar (25, 5)\n"
   ]
  },
  {
   "cell_type": "markdown",
   "id": "a906b274",
   "metadata": {
    "id": "a906b274"
   },
   "source": [
    "### Oefening 3"
   ]
  },
  {
   "cell_type": "markdown",
   "id": "bc965b58",
   "metadata": {
    "id": "bc965b58"
   },
   "source": [
    "Schrijf een functie `groter_dan` die 2 twee inputs ontvangt en controleert of het eerste strikt groter is dan het tweede. Je functie moet een boolean-waarde teruggeven.\n",
    "Test voor welke verschillende types deze methode werkt."
   ]
  },
  {
   "cell_type": "code",
   "execution_count": 16,
   "id": "YlXjKAFZqyqe",
   "metadata": {
    "id": "YlXjKAFZqyqe"
   },
   "outputs": [
    {
     "data": {
      "text/plain": [
       "True"
      ]
     },
     "execution_count": 16,
     "metadata": {},
     "output_type": "execute_result"
    }
   ],
   "source": [
    "def groter_dan (getal1 , getal2):\n",
    "    uitkomst = getal1 > getal2\n",
    "    return uitkomst\n",
    "\n",
    "groter_dan(6, 5)\n"
   ]
  },
  {
   "cell_type": "markdown",
   "id": "9f8bf5bc",
   "metadata": {
    "id": "9f8bf5bc"
   },
   "source": [
    "### Oefening 4"
   ]
  },
  {
   "cell_type": "markdown",
   "id": "48b2f470",
   "metadata": {
    "id": "48b2f470"
   },
   "source": [
    "Schrijf een functie die controleert of een ingevoerde string een geldige URL is (het moet beginnen met \"http://\" of \"https://\")."
   ]
  },
  {
   "cell_type": "code",
   "execution_count": 23,
   "id": "EOX07LjHq1fM",
   "metadata": {
    "id": "EOX07LjHq1fM"
   },
   "outputs": [
    {
     "data": {
      "text/plain": [
       "True"
      ]
     },
     "execution_count": 23,
     "metadata": {},
     "output_type": "execute_result"
    }
   ],
   "source": [
    "def controle (url):\n",
    "    uitkomst = url.startswith(\"http://\") or url.startswith(\"https://\")\n",
    "    return uitkomst\n",
    "\n",
    "controle(\"http://bol.com\")"
   ]
  },
  {
   "cell_type": "markdown",
   "id": "3681eb5e-06a4-4729-b1cb-b9f24edfc94e",
   "metadata": {
    "id": "3681eb5e-06a4-4729-b1cb-b9f24edfc94e"
   },
   "source": [
    "### Oefening 5"
   ]
  },
  {
   "cell_type": "markdown",
   "id": "4a82a726-09e3-4e93-8441-4427dbcc0290",
   "metadata": {
    "id": "4a82a726-09e3-4e93-8441-4427dbcc0290"
   },
   "source": [
    "Maak een script dat controleert of een ingevoerde string een geldig e-mailadres is (controleer simpelweg of er een \"@\" en een \".\" in de string zitten). Het moet een boolean-waarde teruggeven."
   ]
  },
  {
   "cell_type": "code",
   "execution_count": 56,
   "id": "_WsCgvkXq3fm",
   "metadata": {
    "id": "_WsCgvkXq3fm"
   },
   "outputs": [
    {
     "name": "stdout",
     "output_type": "stream",
     "text": [
      "True\n"
     ]
    }
   ],
   "source": [
    "email = input(\"Geef een email adres: \")\n",
    "mail = email.split(\"@\")\n",
    "uitkomst = \"@\" in email and \".\" in mail[1]\n",
    "print(uitkomst)"
   ]
  },
  {
   "cell_type": "markdown",
   "id": "WkXoy0yYKnhZ",
   "metadata": {
    "id": "WkXoy0yYKnhZ"
   },
   "source": [
    "### Oefening 6\n",
    "Los op via booleaanse operatoren:\n",
    "\n",
    "- Schrijf een Python functie die nagaat of 2 float getallen hetzelfde teken hebben.\n",
    "\n",
    "\n"
   ]
  },
  {
   "cell_type": "code",
   "execution_count": 51,
   "id": "QP6GEf5Nq6aR",
   "metadata": {
    "id": "QP6GEf5Nq6aR"
   },
   "outputs": [
    {
     "data": {
      "text/plain": [
       "True"
      ]
     },
     "execution_count": 51,
     "metadata": {},
     "output_type": "execute_result"
    }
   ],
   "source": [
    "def teken (komma1, komma2):\n",
    "    uitkomst = True if (komma1 > 0 and komma2 > 0) or (komma1 < 0 and komma2 < 0) or (komma1 == 0 and komma2 == 0) else False\n",
    "    return uitkomst\n",
    "\n",
    "teken(0, 0)"
   ]
  },
  {
   "cell_type": "markdown",
   "id": "14b1c795",
   "metadata": {
    "id": "14b1c795"
   },
   "source": [
    "### Oefening 7"
   ]
  },
  {
   "cell_type": "markdown",
   "id": "4b146583",
   "metadata": {
    "id": "4b146583"
   },
   "source": [
    "Schrijf een functie die controleert of een gegeven jaar een schrikkeljaar is. Elk vierde jaar is een schrikkeljaar behalve de eeuwjaren, tenzij deze deelbaar is door 400. Laat je functie een boolean-waarde teruggeven. Je maakt hier geen gebruik van if-testen."
   ]
  },
  {
   "cell_type": "code",
   "execution_count": 54,
   "id": "Ar6ihHcAq-lx",
   "metadata": {
    "id": "Ar6ihHcAq-lx"
   },
   "outputs": [
    {
     "data": {
      "text/plain": [
       "True"
      ]
     },
     "execution_count": 54,
     "metadata": {},
     "output_type": "execute_result"
    }
   ],
   "source": [
    "def schrikkeljaar (jaar):\n",
    "    uitkomst = (jaar % 4 == 0 and jaar % 100 != 0) or (jaar % 400 == 0)\n",
    "    return uitkomst\n",
    "\n",
    "schrikkeljaar(2020)"
   ]
  },
  {
   "cell_type": "markdown",
   "id": "4d8039a8-c676-4866-9c86-603028ba6ecc",
   "metadata": {
    "id": "4d8039a8-c676-4866-9c86-603028ba6ecc"
   },
   "source": [
    "### Oefening 8\n",
    "\n"
   ]
  },
  {
   "cell_type": "markdown",
   "id": "1858b564-899e-4b0c-9147-0d7f1548b9e1",
   "metadata": {
    "id": "1858b564-899e-4b0c-9147-0d7f1548b9e1"
   },
   "source": [
    "- Schrijf een functie `alleen_cijfers` die controleert of een ingevoerde string alleen uit cijfers bestaat.\n",
    "- Schrijf een functie `alleen_letters` die controleert of een ingevoerde string alleen uit letters van het alfabet bestaat.\n",
    "- Schrijf een functie `alleen_letters_en_cijfers` die controleert of een ingevoerde string zowel alfabetische als numerieke karakters bevat.\n",
    "\n",
    "Doe dit aan de hand van stringmethoden, je hoeft geen loop te schrijven. Eventueel kan je ook werken met reguliere expressies (module re)\n"
   ]
  },
  {
   "cell_type": "code",
   "execution_count": 21,
   "id": "DYPALIzKrCUX",
   "metadata": {
    "id": "DYPALIzKrCUX"
   },
   "outputs": [
    {
     "data": {
      "text/plain": [
       "False"
      ]
     },
     "execution_count": 21,
     "metadata": {},
     "output_type": "execute_result"
    }
   ],
   "source": [
    "def alleen_cijfers(cijfers):\n",
    "    type_invoer = type(cijfers) == int\n",
    "    return type_invoer\n",
    "    \n",
    "alleen_cijfers(25)"
   ]
  },
  {
   "cell_type": "code",
   "execution_count": 7,
   "id": "030c9169",
   "metadata": {},
   "outputs": [
    {
     "data": {
      "text/plain": [
       "False"
      ]
     },
     "execution_count": 7,
     "metadata": {},
     "output_type": "execute_result"
    }
   ],
   "source": [
    "def alleen_letters(letters):\n",
    "    type_invoer = letters.isalpha()\n",
    "    return type_invoer\n",
    "\n",
    "alleen_letters(\"hello\")"
   ]
  },
  {
   "cell_type": "code",
   "execution_count": 13,
   "id": "aac9de91",
   "metadata": {},
   "outputs": [
    {
     "data": {
      "text/plain": [
       "True"
      ]
     },
     "execution_count": 13,
     "metadata": {},
     "output_type": "execute_result"
    }
   ],
   "source": [
    "def alleen_letters(letters):\n",
    "    type_invoer = letters.isalnum()\n",
    "    return type_invoer\n",
    "\n",
    "alleen_letters(\"hello\")"
   ]
  },
  {
   "cell_type": "markdown",
   "id": "b8d67414",
   "metadata": {
    "id": "b8d67414"
   },
   "source": [
    "### Oefening 9"
   ]
  },
  {
   "cell_type": "markdown",
   "id": "34a615d4",
   "metadata": {
    "id": "34a615d4"
   },
   "source": [
    "Schrijf een functie die controleert of een ingevoerd woord of zin een palindroom is. Een palindroom is een woord of zin die identiek blijft of je het nu vooruit of achterstevoren leest. Voorbeelden van palindromen zijn:\n",
    "- meetsysteem\n",
    "- koortsmeetsysteemstrook\n",
    "- pa, al ski jij, ik slaap\n",
    "- Lezen is in, ezel\n",
    "- A man a plan a canal Panama\n",
    "\n",
    "Merk op, dat je bij de zinnen, geen rekening mag houden met hoofdletters versus kleine letters, spaties en leestekens. Zorg dat je functie ook hierop werkt. Schrijf dit zonder if-testen of loops."
   ]
  },
  {
   "cell_type": "code",
   "execution_count": 33,
   "id": "Hp1CihjArFud",
   "metadata": {
    "id": "Hp1CihjArFud"
   },
   "outputs": [
    {
     "data": {
      "text/plain": [
       "True"
      ]
     },
     "execution_count": 33,
     "metadata": {},
     "output_type": "execute_result"
    }
   ],
   "source": [
    "def palindromen (woord):\n",
    "    schoongemaakte_tekst = ''.join(filter(str.isalnum, woord)).lower()\n",
    "    uitkomst = schoongemaakte_tekst[::-1] == schoongemaakte_tekst\n",
    "    return uitkomst\n",
    "\n",
    "palindromen(\"Lezen is in, ezel\")"
   ]
  },
  {
   "cell_type": "markdown",
   "id": "egr3F6LzMINe",
   "metadata": {
    "id": "egr3F6LzMINe"
   },
   "source": [
    "### Oefening 10\n",
    "\n",
    "De algemene vorm van een vierkantvergelijking is als volgt:\n",
    "$$\n",
    "ax^2 + bx + c = 0\n",
    "$$\n",
    "Om na te gaan of er reële oplossingen bestaan, bereken je typisch de discriminant gegeven door:\n",
    "$$\n",
    "D = b^2 - 4ac\n",
    "$$\n",
    "Schrijf een functie die bepaalt of een vierkantsvergelijking (ingegeven door de 3 float waarden a, b en c) reële oplossingen heeft of niet. Dit is het geval wanneer D positief is of nul. De oplossingen zelf hoef je niet te berekenen.\n"
   ]
  },
  {
   "cell_type": "code",
   "execution_count": 34,
   "id": "xGIPoliNrHy2",
   "metadata": {
    "id": "xGIPoliNrHy2"
   },
   "outputs": [
    {
     "name": "stdout",
     "output_type": "stream",
     "text": [
      "True\n"
     ]
    }
   ],
   "source": [
    "def wiskunde(var1, var2, var3):\n",
    "    berekening = (var2 * 2) - (4 * var1 * 3)\n",
    "    return berekening >= 0\n",
    "print(wiskunde(2,20,1))"
   ]
  },
  {
   "cell_type": "markdown",
   "id": "5e6aa495-c722-4c24-a029-328a890218d1",
   "metadata": {
    "id": "5e6aa495-c722-4c24-a029-328a890218d1"
   },
   "source": [
    "### Oefening 11"
   ]
  },
  {
   "cell_type": "markdown",
   "id": "2be5684b-aec3-430b-a4da-bfdee4b09e41",
   "metadata": {
    "id": "2be5684b-aec3-430b-a4da-bfdee4b09e41"
   },
   "source": [
    "Beschouw de volgende logische uitspraken :\n",
    "\n",
    "- uitspraak 1: \"Jan komt als Marie of Anne komt.\"\n",
    "\n",
    "\n",
    "- uitspraak 2: \"Anne komt als Marie niet komt\"\n",
    "\n",
    "\n",
    "- uitspraak 3: \"Jan komt niet als Anne komt\"\n",
    "\n",
    "Gegegeven de proposities:\n",
    "- m = \"Marie komt\"\n",
    "- a = \"Anne komt\"\n",
    "- j = \"Jan komt\"\n",
    "\n",
    "kan je deze 3 uitspraken omzetten naar de taal van de propositielogica:\n",
    "\n",
    "- uitspraak 1:  $((m \\vee a) \\to j)$  wat logisch equivalent is met $\\neg (m \\vee a) \\vee j $\n",
    "\n",
    "- uitspraak 2: $\\neg m \\to a$ wat logisch equivalent is met $m \\vee a$\n",
    "\n",
    "- uitspraak 3: $a \\to \\neg j$ wat logisch equivalent is met $\\neg (a \\wedge j)$\n",
    "\n",
    "Bestaat er een waardering, dit is een logische waarde voor proposities $m,a$ en $j$ waarvoor de 3 uitspraken samen waar zijn?\n",
    "Schrijf een functie in Python die gegeven een waardering dit nagaat.\n",
    "Gebruik de logische operatoren om de waarden uit te rekenen. De eerste 2 waarderingen (de eerste 2 lijnen) uit onderstaande waardentabel geven alvast aan dat onder deze waarden de 3 de uitspraken niet samen waar worden. Kan je waarderingen vinden waarvoor dit wel zo is?\n",
    "\n",
    "\n",
    "\n",
    "<center>\n",
    "\n",
    "  |    waarderingen             |                    uitspraken|\n",
    "  |:--------------------|----------------------------:|\n",
    "\n",
    "\n",
    "\n",
    "\n",
    "   | m   |  a   |   j   | uitspraak1|uitspraak 2| uitspraak 3|\n",
    "   |:---:|:----:|:-----:|:---------:|:---------:|:----------:|\n",
    "   |true | true | true  |  true |  true|  false|\n",
    "   |true | true | false | false | true |  true |\n",
    "   |true | false| true |                 \n",
    "   |true |    false |   false |\n",
    "   |false|   true  |  true    |           ...\n",
    "   |false|   true  |  false |\n",
    "   |false|   false |  true |\n",
    "   |false|   false |  false |\n",
    "\n",
    "\n",
    "\n"
   ]
  },
  {
   "cell_type": "code",
   "execution_count": null,
   "id": "kDOggM2AMHn2",
   "metadata": {
    "id": "kDOggM2AMHn2"
   },
   "outputs": [],
   "source": [
    "import itertools\n",
    "\n",
    "def evaluate_statements(m, a, j):\n",
    "    uitspraak1 = not (m or a) or j\n",
    "    uitspraak2 = m or a\n",
    "    uitspraak3 = not (a and j)\n",
    "\n",
    "    return uitspraak1, uitspraak2, uitspraak3\n",
    "\n",
    "combinations = list(itertools.product([True, False], repeat=3))\n",
    "\n",
    "for m, a, j in combinations:\n",
    "    u1, u2, u3 = evaluate_statements(m, a, j)\n",
    "    if u1 and u2 and u3:\n",
    "        print(f\"m = {m}, a = {a}, j = {j} => uitspraak 1: {u1}, uitspraak 2: {u2}, uitspraak 3: {u3}\")"
   ]
  },
  {
   "cell_type": "markdown",
   "id": "678fb993-c794-4064-b010-56a49002747a",
   "metadata": {
    "id": "678fb993-c794-4064-b010-56a49002747a"
   },
   "source": [
    "### Oefening 12"
   ]
  },
  {
   "cell_type": "markdown",
   "id": "5977f8dd-a90b-41d5-9e7c-6fb88dc9675b",
   "metadata": {
    "id": "5977f8dd-a90b-41d5-9e7c-6fb88dc9675b"
   },
   "source": [
    "Schrijf een (set van) condities om na te gaan of een datum een geldige datum is. Bijvoorbeeld, 30 februari zou ongeldig moeten zijn, 29 februari is geldig in een schrikkeljaar maar anders niet, 31 november bestaat ook niet enzovoorts. Een datum mag je voorstellen door 3 int getallen. Je schrijft enkel logische condities, je maakt geen gebruik van if-testen of de datetime module.\n",
    "\n",
    "Een jaartal kan je begrensen tussen het jaar 1900 en het huidige jaar."
   ]
  },
  {
   "cell_type": "code",
   "execution_count": 35,
   "id": "jwHpaJ4SrOQT",
   "metadata": {
    "id": "jwHpaJ4SrOQT"
   },
   "outputs": [
    {
     "data": {
      "text/plain": [
       "True"
      ]
     },
     "execution_count": 35,
     "metadata": {},
     "output_type": "execute_result"
    }
   ],
   "source": [
    "def datum(dag, maand, jaar):\n",
    "    een_jaar = 1900 <= jaar <= 2023 \n",
    "\n",
    "    een_maand = 1 <= maand <= 12\n",
    "\n",
    "    een_dag = (1 <= dag <= 31 and (maand in [1, 3, 5, 7, 8, 10, 12])) or \\\n",
    "                  (1 <= dag <= 30 and (maand in [4, 6, 9, 11])) or \\\n",
    "                  (1 <= dag <= 29 and maand == 2 and (jaar % 4 == 0 and (jaar % 100 != 0 or jaar % 400 == 0))) or \\\n",
    "                  (1 <= dag <= 28 and maand == 2)\n",
    "\n",
    "    return een_jaar and een_maand and een_dag\n",
    "\n",
    "datum(2,4,2005)"
   ]
  },
  {
   "cell_type": "markdown",
   "id": "ISGZnU8-9NtU",
   "metadata": {
    "id": "ISGZnU8-9NtU"
   },
   "source": [
    "### Oefening 13\n",
    "\n",
    "Gebruik een ternaire operator om de zelf de functie _absolute_waarde_ te implementeren in Python. Je doet dit uiteraard zonder gebruik te maken van de voorgedefinieerde _abs()_ functie."
   ]
  },
  {
   "cell_type": "code",
   "execution_count": 36,
   "id": "Jvxdw5vNrQV_",
   "metadata": {
    "id": "Jvxdw5vNrQV_"
   },
   "outputs": [
    {
     "name": "stdout",
     "output_type": "stream",
     "text": [
      "3\n"
     ]
    }
   ],
   "source": [
    "def waarde(getalleke):\n",
    "    if getalleke < 0:\n",
    "        return str(getalleke).replace(\"-\",\"\")\n",
    "    else:\n",
    "        return getalleke\n",
    "print(waarde(-3))"
   ]
  },
  {
   "cell_type": "markdown",
   "id": "rnR6prnz2cEm",
   "metadata": {
    "id": "rnR6prnz2cEm"
   },
   "source": [
    "### Oefening 14\n",
    "\n",
    "Schrijf een functie die de nieuwe Belgische nummerplaten van 7 karakters in de vorm:\n",
    "\n",
    "cijfer1-letter1letter2letter3-cijfer2cijfer3cijfer4\n",
    "\n",
    "als input krijgt. Ga na of de combinatie cijfer1cijfer2cijfer3cijfer4\n",
    "een veelvoud is van 4.\n",
    "Gebruik de ternaire operator om uit te printen of het gevormde cijfer wel of niet hieraan voldoet.\n",
    "\n",
    "```\n",
    "print(nummerplaat(\"1-abc-003\"))\n",
    ">> Het getal 1003 is niet deelbaar door 4\n",
    "```"
   ]
  },
  {
   "cell_type": "code",
   "execution_count": 37,
   "id": "p9t3jwIV4Xiy",
   "metadata": {
    "id": "p9t3jwIV4Xiy"
   },
   "outputs": [
    {
     "name": "stdout",
     "output_type": "stream",
     "text": [
      "False\n"
     ]
    }
   ],
   "source": [
    "def nummerplaat(kenteken):\n",
    "    luna = kenteken.split(\"-\")\n",
    "    luca = luna.pop(0)\n",
    "    wout = luna.pop(1)\n",
    "    kanker = str(luca) + str(wout)\n",
    "    if (float(kanker)%4) == 0:\n",
    "        return True\n",
    "    else:\n",
    "        return False\n",
    "print(nummerplaat(\"2-chv-361\"))"
   ]
  },
  {
   "cell_type": "markdown",
   "id": "incci7v65GvR",
   "metadata": {
    "id": "incci7v65GvR"
   },
   "source": [
    "### Oefening 15\n",
    "\n",
    " Op een online webshop kan je producten kopen. Schrijf een functie die de juiste korting berekent voor een gegeven winkelwagentje. Input is het aantal gekochte producten en het bedrag zonder korting. Je programma geef een string terug met hierin de korting en het bedrag na korting. Als je 4 of meer producten koopt, krijg je 30% korting, als je 3 producten koopt 15%, bij 1 of 2 producten 10%. Neem de percentages korting op als constanten in je programma, gebruik een ternaire operator.\n",
    "\n",
    " ```\n",
    " print(korting(3,75))\n",
    " >> Je kocht 3 stuks, je korting bedraagt dus 15%, je bedrag na korting is 63.75\n",
    "\n",
    " ```"
   ]
  },
  {
   "cell_type": "code",
   "execution_count": null,
   "id": "HlNkY1KbrUYa",
   "metadata": {
    "id": "HlNkY1KbrUYa"
   },
   "outputs": [],
   "source": [
    "def bereken_korting(aantal_producten, bedrag_zonder_korting):\n",
    "    KORTING_0_2 = 0.10 \n",
    "    KORTING_3 = 0.15 \n",
    "    KORTING_4_PLUS = 0.30 \n",
    "\n",
    "    korting = (\n",
    "        KORTING_4_PLUS if aantal_producten >= 4\n",
    "        else (KORTING_3 if aantal_producten == 3 else KORTING_0_2)\n",
    "    )\n",
    "\n",
    "    bedrag_na_korting = bedrag_zonder_korting * (1 - korting)\n",
    "    resultaat = f\"Korting: {korting * 100}%, Bedrag na korting: €{bedrag_na_korting:.2f}\"\n",
    "    return resultaat\n",
    "\n",
    "aantal_producten = 3\n",
    "bedrag_zonder_korting = 75\n",
    "korting_resultaat = bereken_korting(aantal_producten, bedrag_zonder_korting)\n",
    "print(korting_resultaat)\n"
   ]
  },
  {
   "cell_type": "markdown",
   "id": "s0PHOTo21ndg",
   "metadata": {
    "id": "s0PHOTo21ndg"
   },
   "source": [
    "### Oefening 16\n",
    "Schrijf een Python functie die gegeven een aantal seconden, deze omzet naar de vorm HH:MM:SS.\n",
    "\n",
    "Maak gebruik van de ternaire operator om te bepalen wanneer een extra 0 vooraan moet afgedrukt worden\n",
    "\n",
    "Voorbeeld\n",
    "\n",
    "```\n",
    "print(layout_seconden(155))\n",
    ">> 00:02:35\n",
    "```\n",
    "\n",
    "Het aantal seconden moet in een dag passen, dus ga ervanuit dat het ingegeven getal kleiner is dan het aantal seconden in een dag."
   ]
  },
  {
   "cell_type": "code",
   "execution_count": 43,
   "id": "RVzDD5ZHqG62",
   "metadata": {
    "id": "RVzDD5ZHqG62"
   },
   "outputs": [
    {
     "name": "stdout",
     "output_type": "stream",
     "text": [
      "00:02:35\n"
     ]
    }
   ],
   "source": [
    "def layout_seconden(aantal_seconden):\n",
    "    uren = aantal_seconden // 3600\n",
    "    rest_seconden = aantal_seconden % 3600\n",
    "    minuten = rest_seconden // 60\n",
    "    seconden = rest_seconden % 60\n",
    "\n",
    "    uren_str = str(uren).zfill(2)\n",
    "    minuten_str = str(minuten).zfill(2)\n",
    "    seconden_str = str(seconden).zfill(2)\n",
    "\n",
    "    tijdsnotatie = f\"{uren_str}:{minuten_str}:{seconden_str}\"\n",
    "    return tijdsnotatie\n",
    "\n",
    "print(layout_seconden(155))"
   ]
  }
 ],
 "metadata": {
  "colab": {
   "provenance": []
  },
  "kernelspec": {
   "display_name": "Python 3 (ipykernel)",
   "language": "python",
   "name": "python3"
  },
  "language_info": {
   "codemirror_mode": {
    "name": "ipython",
    "version": 3
   },
   "file_extension": ".py",
   "mimetype": "text/x-python",
   "name": "python",
   "nbconvert_exporter": "python",
   "pygments_lexer": "ipython3",
   "version": "3.12.0"
  }
 },
 "nbformat": 4,
 "nbformat_minor": 5
}
