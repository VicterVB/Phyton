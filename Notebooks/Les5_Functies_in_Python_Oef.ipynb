{
 "cells": [
  {
   "cell_type": "markdown",
   "id": "72a07c1f-8f20-4199-9b81-ba024fc0665c",
   "metadata": {
    "id": "72a07c1f-8f20-4199-9b81-ba024fc0665c"
   },
   "source": [
    "### <center> ![logo_nieuw.jpg](data:image/jpeg;base64,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)\n",
    "\n",
    "## <center> **Opgaven Programming Fundamentals**\n",
    "### <center> **Prof. Bachelor ELO-ICT - Academiejaar 2023 - 2024**\n",
    "### <center> ![OIP.jpg](data:image/jpeg;base64,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)\n",
    "    "
   ]
  },
  {
   "cell_type": "markdown",
   "id": "f63dee5f",
   "metadata": {
    "id": "f63dee5f"
   },
   "source": [
    "# <center> Les 5: Functies in Python\n"
   ]
  },
  {
   "cell_type": "markdown",
   "id": "85d0efb0",
   "metadata": {
    "id": "85d0efb0"
   },
   "source": [
    "### Oefening 1"
   ]
  },
  {
   "cell_type": "markdown",
   "id": "2630543b",
   "metadata": {
    "id": "2630543b"
   },
   "source": [
    "- Schrijf een eenvoudige functie genaamd `groet` die de gebruiker zijn naam vraagt en de zin 'Hallo, [naam]!' afdrukt, waarbij [naam] de meegegeven string is.\n",
    "- Schrijf een eenvoudige functie genaamd `groet` die een string als parameter accepteert en de zin 'Hallo, [naam]!' afdrukt, waarbij [naam] de meegegeven string is.\n",
    "- Wijzig deze functie zodat ze nu ook een string als return-waarde teruggeeft."
   ]
  },
  {
   "cell_type": "code",
   "execution_count": 13,
   "id": "OOwygggcpCBE",
   "metadata": {
    "id": "OOwygggcpCBE"
   },
   "outputs": [
    {
     "name": "stdout",
     "output_type": "stream",
     "text": [
      "Hallo, Victer!\n"
     ]
    },
    {
     "data": {
      "text/plain": [
       "'Hallo, Victer!'"
      ]
     },
     "execution_count": 13,
     "metadata": {},
     "output_type": "execute_result"
    }
   ],
   "source": [
    "def groet (naam):\n",
    "    string = f\"Hallo, {naam}!\"\n",
    "    print(string)\n",
    "    return string\n",
    "\n",
    "naam1 = input(\"Wat is je naam? \")\n",
    "groet(naam1)"
   ]
  },
  {
   "cell_type": "markdown",
   "id": "ab129c9f",
   "metadata": {
    "id": "ab129c9f"
   },
   "source": [
    "### Oefening 2"
   ]
  },
  {
   "cell_type": "markdown",
   "id": "fad9e929",
   "metadata": {
    "id": "fad9e929"
   },
   "source": [
    "Voor onderstaande oefeningen is het de bedoeling dat je de `math` module importeert onder de alias `m`\n",
    "- Schrijf een functie genaamd `wortel`die een positief getal accepteert en de wortel ervan teruggeeft.\n",
    "- Schrijf een functie genaamd `vermenigvuldig` die twee getallen accepteert en hun product retourneert. Voeg een docstring toe aan deze functie die uitlegt wat het doet. Roep deze functie op met 2 getallen, maar ook met een getal en een string.\n",
    "- Schrijf een functie `bereken_oppervlakte` die de lengte en breedte van een rechthoek accepteert en de oppervlakte retourneert. De breedte is een optionele parameter met default waarde 1."
   ]
  },
  {
   "cell_type": "code",
   "execution_count": 17,
   "id": "OzQYJoUlpFqw",
   "metadata": {
    "id": "OzQYJoUlpFqw"
   },
   "outputs": [
    {
     "data": {
      "text/plain": [
       "5.0"
      ]
     },
     "execution_count": 17,
     "metadata": {},
     "output_type": "execute_result"
    }
   ],
   "source": [
    "import math as m\n",
    "\n",
    "def wortel (getal):\n",
    "    uitkomst = m.sqrt(getal)\n",
    "    return uitkomst\n",
    "\n",
    "invoer = int(input(\"Geef een getal?\"))\n",
    "wortel(invoer)"
   ]
  },
  {
   "cell_type": "code",
   "execution_count": 20,
   "id": "eY0ZjCWTpFZ4",
   "metadata": {
    "id": "eY0ZjCWTpFZ4"
   },
   "outputs": [
    {
     "data": {
      "text/plain": [
       "30"
      ]
     },
     "execution_count": 20,
     "metadata": {},
     "output_type": "execute_result"
    }
   ],
   "source": [
    "import math as m\n",
    "\n",
    "def vermenigvuldig (invoer1, invoer2):\n",
    "    \"\"\"invoer1 met invoer2 vermenigvuldigen en de uitkomst terug geven.\"\"\"\n",
    "    uitkomst = invoer1 * invoer2\n",
    "    return uitkomst\n",
    "\n",
    "\n",
    "invoer1_1 = 5\n",
    "invoer2_1 = 6\n",
    "vermenigvuldig(invoer1_1, invoer2_1)"
   ]
  },
  {
   "cell_type": "code",
   "execution_count": 22,
   "id": "aYzoJJDrpFMc",
   "metadata": {
    "id": "aYzoJJDrpFMc"
   },
   "outputs": [
    {
     "data": {
      "text/plain": [
       "125"
      ]
     },
     "execution_count": 22,
     "metadata": {},
     "output_type": "execute_result"
    }
   ],
   "source": [
    "import math as m\n",
    "\n",
    "def bereken_oppervlakte (lengte, breeedte = 1):\n",
    "    oppervlakte = lengte * breeedte\n",
    "    return oppervlakte\n",
    "\n",
    "bereken_oppervlakte(25, 5)"
   ]
  },
  {
   "cell_type": "markdown",
   "id": "743e736f-785f-4eb2-bdb1-5449062d7127",
   "metadata": {
    "id": "743e736f-785f-4eb2-bdb1-5449062d7127"
   },
   "source": [
    "### Oefening 3\n",
    "\n",
    "Schrijf een functie om de omtrek van een cirkel te berekenen met de formule 2 x π x straal. De straal van de cirkel wordt ingelezen voor je de functie aanroept. Voorzie een docstring."
   ]
  },
  {
   "cell_type": "code",
   "execution_count": 24,
   "id": "xpfMQ3nnpH0j",
   "metadata": {
    "id": "xpfMQ3nnpH0j"
   },
   "outputs": [
    {
     "data": {
      "text/plain": [
       "31.41592653589793"
      ]
     },
     "execution_count": 24,
     "metadata": {},
     "output_type": "execute_result"
    }
   ],
   "source": [
    "from math import pi\n",
    "\n",
    "def omtrek_cirkel (straal):\n",
    "    \"\"\"Geeft de omtrek van een cirkel met straal als invoer.\"\"\"\n",
    "    omtrek = 2 * pi * straal\n",
    "    return omtrek \n",
    "\n",
    "invoer = int(input(\"Wat is de straal? \"))\n",
    "omtrek_cirkel(invoer)"
   ]
  },
  {
   "cell_type": "markdown",
   "id": "2ce54365-8e21-4b54-9425-8dc5de45ac33",
   "metadata": {
    "id": "2ce54365-8e21-4b54-9425-8dc5de45ac33"
   },
   "source": [
    "### Oefening 4\n",
    "\n",
    "Schrijf een functie om het volume van een cylinder te berekenen. De formule voor het volume is $V = \\pi \\cdot R^2 \\cdot h$ waarbij $R$ de straal van de cilinder is, en $h$ de hoogte.\n",
    "\n",
    "Zowel de straal als hoogte worden ingelezen via het klavier maar voor de oproep van de functie."
   ]
  },
  {
   "cell_type": "code",
   "execution_count": 34,
   "id": "DveplhtgpJJX",
   "metadata": {
    "id": "DveplhtgpJJX"
   },
   "outputs": [
    {
     "data": {
      "text/plain": [
       "314.1592653589793"
      ]
     },
     "execution_count": 34,
     "metadata": {},
     "output_type": "execute_result"
    }
   ],
   "source": [
    "from math import pi\n",
    "\n",
    "def volume_cylinder (straal, hoogte):\n",
    "    \"\"\"Geeft het volume van een cylinder met als invoer de hoogte en de straal.\"\"\"\n",
    "    volume = pi * (straal ** 2) * hoogte\n",
    "    return volume\n",
    "\n",
    "invoer1 = int(input(\"Wat is de straal van de Cylinder.\"))\n",
    "invoer2 = int(input(\"Wat is de hoogte van de cylinder.\"))\n",
    "\n",
    "volume_cylinder(invoer1, invoer2)\n"
   ]
  },
  {
   "cell_type": "markdown",
   "id": "JuE1j_2dZYSQ",
   "metadata": {
    "id": "JuE1j_2dZYSQ"
   },
   "source": [
    "### Oefening 5\n",
    "\n",
    "Schrijf een functie _adder_ die minstens 2, maximaal 5 argumenten neemt en de som van de argumenten teruggeeft.\n",
    "Roep deze functie aan met een variabel aantal getallen als argumenten. Test eveneens of je deze functie kan aanroepen met strings als argument."
   ]
  },
  {
   "cell_type": "code",
   "execution_count": 42,
   "id": "FwyQd7LypK1a",
   "metadata": {
    "id": "FwyQd7LypK1a"
   },
   "outputs": [
    {
     "data": {
      "text/plain": [
       "11"
      ]
     },
     "execution_count": 42,
     "metadata": {},
     "output_type": "execute_result"
    }
   ],
   "source": [
    "def adder (getal1, getal2, getal3 = 0, getal4 = 0, getal5 = 0):\n",
    "    uitkomst = getal1 + getal2 + getal3 + getal4 + getal5\n",
    "    return uitkomst\n",
    "\n",
    "adder(1,5,5) # Dit werkt niet met strings."
   ]
  },
  {
   "cell_type": "markdown",
   "id": "O-Cu2a0o9s7D",
   "metadata": {
    "id": "O-Cu2a0o9s7D"
   },
   "source": [
    "### Oefening 6\n",
    "\n",
    "Schrijf een functie _pythogoras_ die gegeven de lengte van de 2 rechthoekszijden de lengte van de schuine zijde berekent."
   ]
  },
  {
   "cell_type": "code",
   "execution_count": 33,
   "id": "vU1jDFuPpN3q",
   "metadata": {
    "id": "vU1jDFuPpN3q"
   },
   "outputs": [
    {
     "data": {
      "text/plain": [
       "30.01666203960727"
      ]
     },
     "execution_count": 33,
     "metadata": {},
     "output_type": "execute_result"
    }
   ],
   "source": [
    "import math as m\n",
    "\n",
    "def pythagoras (zijde1, zijde2):\n",
    "    uitkomst = m.sqrt((zijde1 ** 2) + (zijde2 ** 2 ))\n",
    "    return uitkomst\n",
    "\n",
    "getal1 = int(input(\"Wat is de lengte van de eerste rechthoekszijde? \"))\n",
    "getal2 = int(input(\"Wat is de lengte van de tweede rechthoekszijde? \"))\n",
    "\n",
    "pythagoras(getal1, getal2)"
   ]
  },
  {
   "cell_type": "markdown",
   "id": "Tlw5iR0Ffy60",
   "metadata": {
    "id": "Tlw5iR0Ffy60"
   },
   "source": [
    "### Oefening 7\n",
    "\n",
    "- Schrijf een functie _identity_ met 3 keyword argumenten om de gegevens van een persoon (naam, leeftijd en woonplaats) uit te printen. Wanneer de functie opgeroepen wordt zonder argumenten verschijnt er op het scherm:\n",
    "\n",
    "```\n",
    "Bob, 40 jaar oud, woonachtig in Gent\n",
    "```\n",
    "\n"
   ]
  },
  {
   "cell_type": "code",
   "execution_count": 36,
   "id": "tI3kUk6Ipi0n",
   "metadata": {
    "id": "tI3kUk6Ipi0n"
   },
   "outputs": [
    {
     "name": "stdout",
     "output_type": "stream",
     "text": [
      "Victer, 18 jaar oud, woonachtig in Kalken\n"
     ]
    }
   ],
   "source": [
    "def indentity (naam = \"Bob\", leeftijd = \"40\", woonplaats = \"Gent\"):\n",
    "    print(f\"{naam}, {leeftijd} jaar oud, woonachtig in {woonplaats}\")\n",
    "    \n",
    "indentity(\"Victer\", \"18\", \"Kalken\")"
   ]
  },
  {
   "cell_type": "markdown",
   "id": "bTBB3TCZpaNw",
   "metadata": {
    "id": "bTBB3TCZpaNw"
   },
   "source": [
    "### Oefening 8\n",
    "Implementeer een functie _spam_ zodanig dat deze dezelfde output genereert bij onderstaande oproepen:\n",
    "\n",
    "```\n",
    "spam(1,2) # geeft output: 1,2,0,0\n",
    "spam(1,ham=1) # geeft output: 1,0,0,1\n",
    "spam(spam=1,eggs=0)  # geeft output: 1,0,0,0\n",
    "spam(toast=1, eggs=2, spam=3) # geeft output: 3,2,1,0\n",
    "spam(1,2,3,4) # geeft output: 1,2,3,4\n",
    "```   "
   ]
  },
  {
   "cell_type": "code",
   "execution_count": 41,
   "id": "cv9jjJ6UpPzB",
   "metadata": {
    "id": "cv9jjJ6UpPzB"
   },
   "outputs": [
    {
     "name": "stdout",
     "output_type": "stream",
     "text": [
      "1,2,0,0\n",
      "1,0,0,1\n",
      "1,0,0,0\n",
      "3,2,1,0\n",
      "1,2,3,4\n"
     ]
    }
   ],
   "source": [
    "def spam (spam = 0, eggs = 0, toast = 0, ham = 0):\n",
    "    print(f\"{spam},{eggs},{toast},{ham}\")\n",
    "\n",
    "spam(1,2)\n",
    "spam(1,ham=1)\n",
    "spam(spam=1, eggs=0)\n",
    "spam(toast=1, eggs=2, spam=3)\n",
    "spam(1,2,3,4)\n",
    "    "
   ]
  },
  {
   "cell_type": "markdown",
   "id": "5Twdq8W4qo_y",
   "metadata": {
    "id": "5Twdq8W4qo_y"
   },
   "source": [
    "### Oefening 9:\n",
    "\n",
    "- Schrijf een functie _Celsius\\_naar\\_Fahrenheit_\n",
    "- Schrijf een functie _Fahrenheit\\_naar\\_Celsius_"
   ]
  },
  {
   "cell_type": "code",
   "execution_count": 43,
   "id": "zR9h9kNBpo7K",
   "metadata": {
    "id": "zR9h9kNBpo7K"
   },
   "outputs": [
    {
     "data": {
      "text/plain": [
       "77.0"
      ]
     },
     "execution_count": 43,
     "metadata": {},
     "output_type": "execute_result"
    }
   ],
   "source": [
    "def Celsius_naar_Fahrenheit (celsius):\n",
    "    fahrenheit = 9/5 * celsius + 32\n",
    "    return fahrenheit\n",
    "\n",
    "Celsius_naar_Fahrenheit(25)\n"
   ]
  },
  {
   "cell_type": "code",
   "execution_count": 44,
   "id": "23f3bb9e",
   "metadata": {},
   "outputs": [
    {
     "data": {
      "text/plain": [
       "25.0"
      ]
     },
     "execution_count": 44,
     "metadata": {},
     "output_type": "execute_result"
    }
   ],
   "source": [
    "def Fahrenheit_naar_Celsius (fahrenheit):\n",
    "    celsius = (fahrenheit - 32) * 5/9\n",
    "    return celsius\n",
    "\n",
    "Fahrenheit_naar_Celsius(77)"
   ]
  },
  {
   "cell_type": "markdown",
   "id": "tANKnpB85vaB",
   "metadata": {
    "id": "tANKnpB85vaB"
   },
   "source": [
    "### Oefening 10\n",
    "\n",
    "- Schrijf een functie _worp_ die de worp van een dobbelsteen simuleert. Telkens je een worp uitvoert, moet een ander getal tussen 1 en 6 als output zien verschijnen. Test je functie.\n",
    "- Herschrijf je bovenstaande functie zodat je een worp met een aangepaste dobbelsteen kan maken. Een dobbelsteen waarbij je zelf kan beslissen wat het minimale en maximale aantal ogen moet zijn.\n",
    "Zorg er wel voor dat je originele _worp_ functie ook blijft werken.\n",
    "\n",
    "Genereer met deze laatste versie het werpen met een dobbelsteen waarvan het aantal ogen tussen 15 en 20 ligt.\n",
    "\n",
    "\n"
   ]
  },
  {
   "cell_type": "code",
   "execution_count": 22,
   "id": "w1Uudm_Lpr06",
   "metadata": {
    "id": "w1Uudm_Lpr06"
   },
   "outputs": [
    {
     "data": {
      "text/plain": [
       "16"
      ]
     },
     "execution_count": 22,
     "metadata": {},
     "output_type": "execute_result"
    }
   ],
   "source": [
    "import random\n",
    "def worp (minimum = 1, maximum = 6):\n",
    "    uitvoer = random.randint(minimum,maximum)\n",
    "    return uitvoer\n",
    "\n",
    "worp(15,20)"
   ]
  },
  {
   "cell_type": "markdown",
   "id": "MIZ03N9GoFqD",
   "metadata": {
    "id": "MIZ03N9GoFqD"
   },
   "source": [
    "### Oefening 11\n",
    "\n",
    "Schrijf een functie _genereer\\_paswoord_. Deze moet een willekeurig gegenereerde string van lengte 8 teruggeven. De string bestaat telkens uit volgend patroon: een willekeurige hoofdletter, een willekeurig cijfer, een willekeurige kleine letter, een willekeurig leesteken, en dit nogmaals herhaald.\n",
    "Telkens wanneer je de functie aanroept krijg je een ander paswoord.\n",
    "\n",
    "Maak handig gebruik van de functies uit de _random_ module.\n",
    "Daarnaast kan je ook de _string_ module gebruiken om bv. de leestekens te selecteren (_string.punctuations_), de digits (_string.digits_) enz.\n",
    "\n"
   ]
  },
  {
   "cell_type": "code",
   "execution_count": 120,
   "id": "9CMVsYJ2puVI",
   "metadata": {
    "id": "9CMVsYJ2puVI"
   },
   "outputs": [
    {
     "data": {
      "text/plain": [
       "'T4o|S6k$'"
      ]
     },
     "execution_count": 120,
     "metadata": {},
     "output_type": "execute_result"
    }
   ],
   "source": [
    "import random\n",
    "import string\n",
    "\n",
    "def genereer_paswoord ():\n",
    "    uppercase = string.ascii_uppercase\n",
    "    lowercase = string.ascii_lowercase \n",
    "    punctuation = string.punctuation\n",
    "    paswoord = f\"{random.choice(uppercase)}{random.randint(0,9)}{random.choice(lowercase)}{random.choice(punctuation)}{random.choice(uppercase)}{random.randint(0,9)}{random.choice(lowercase)}{random.choice(punctuation)}\"\n",
    "    #paswoord = f\"{random.choice(uppercase)}{random.randint(0,9)}{random.choice(lowercase)}{random.choice(punctuation)}\"\n",
    "    return paswoord\n",
    "\n",
    "genereer_paswoord()"
   ]
  },
  {
   "cell_type": "markdown",
   "id": "kh3LkFpTSryO",
   "metadata": {
    "id": "kh3LkFpTSryO"
   },
   "source": [
    "### Oefening 12\n",
    "\n",
    "Schrijf een functie _in\\_the_\\_middle_ die twee strings als input neemt en een resultaatstring maakt waarbij de tweede string, in het midden van de eerste geplakt wordt.\n",
    "Voorbeeld:\n",
    "```\n",
    "in_the_middle(\"happy\",\"few\") -> hapfewpy\n",
    "```\n"
   ]
  },
  {
   "cell_type": "code",
   "execution_count": 10,
   "id": "SP-RGAVopwuE",
   "metadata": {
    "id": "SP-RGAVopwuE"
   },
   "outputs": [
    {
     "data": {
      "text/plain": [
       "'hapfewpy'"
      ]
     },
     "execution_count": 10,
     "metadata": {},
     "output_type": "execute_result"
    }
   ],
   "source": [
    "def in_the_middle(woord1,woord2):\n",
    "    return f\"{woord1[:int(len(woord1)/2+1)]}{woord2}{woord1[int(len(woord1)/2+1):]}\"\n",
    "\n",
    "in_the_middle(\"happy\", \"few\")\n"
   ]
  },
  {
   "cell_type": "markdown",
   "id": "YbOAuSxlNf4N",
   "metadata": {
    "id": "YbOAuSxlNf4N"
   },
   "source": [
    "### Oefening 13\n",
    "\n",
    "Schrijf een functie _interleave_ om 2 strings te mixen als volgt:\n",
    "- neem de eerste letter van s1 en de eerste letter van s2, plak aan elkaar\n",
    "- neem de middelste letter van s1 en de middelste letter van s2, plak aan elkaar\n",
    "- neem de laatste letter van s1 en de laatste letter van s2, plak aan elkaar\n",
    "- plak deze nieuwe paren aan elkaar tot 1 nieuwe string\n",
    "\n",
    "Maak in je body van je functie gebruik van een tweede functie _midden_ die gegeven een string, het middelste karakter van die string teruggeeft.\n",
    "Voorbeeld:\n",
    "```\n",
    "interleave(\"Frits\",\"Freddy\") -> FFidsy\n",
    "interleave(\"België\",\"Nederland\") ->BNgrëd\n",
    "```\n",
    "\n",
    "\n"
   ]
  },
  {
   "cell_type": "code",
   "execution_count": 69,
   "id": "8fpItBKDp0Rz",
   "metadata": {
    "id": "8fpItBKDp0Rz"
   },
   "outputs": [
    {
     "data": {
      "text/plain": [
       "'BNgrëd'"
      ]
     },
     "execution_count": 69,
     "metadata": {},
     "output_type": "execute_result"
    }
   ],
   "source": [
    "def midden (woord):\n",
    "        woord3 = woord[int(len(woord)/2)]\n",
    "        return woord3\n",
    "\n",
    "def interleave (woord1, woord2):\n",
    "    \n",
    "    eerste_letters = woord1[0] + woord2[0] \n",
    "    middelste_letters = midden(woord1) + midden(woord2)\n",
    "    laatste_letters = woord1[-1] + woord2[-1]\n",
    "    return f\"{eerste_letters}{middelste_letters}{laatste_letters}\" \n",
    "\n",
    "interleave(\"België\", \"Nederland\")"
   ]
  },
  {
   "cell_type": "markdown",
   "id": "azfTVQVLfVb-",
   "metadata": {
    "id": "azfTVQVLfVb-"
   },
   "source": [
    "### Oefening 14\n",
    "\n",
    "- Schrijf een functie _combinatie_ die het aantal mogelijke combinaties uitrekent om k elementen uit een verzameling van n elementen te selecteren. De formule hierbij is:\n",
    "$$\n",
    "C_{k}^{n} = \\frac{n!}{k!(n-k)!}\n",
    "$$\n",
    "hierbij is\n",
    "$$n! = n \\times (n-1) \\times (n-2) \\times (n -3) \\ldots \\times 1\n",
    "$$\n",
    "Dit is de faculteitsfunctie (factorial) genaamd. Je vindt ze in de math module.\n",
    "\n",
    "- Gebruik bovenstaande functie _combinatie_ om het volgende uit te rekenen: op een examen moeten de studenten 10 vragen kiezen om op te lossen. In totaal zijn er 15 vragen beschikbaar.\n",
    "  - Hoeveel verschillende mogelijkheden zijn er?\n",
    "  - Hoeveel mogelijkheden zijn er als de 2 eerste vragen zowieso verplicht zijn\n",
    "  - Hoeveel mogelijkheden zijn er als minstens 1 van de 2 eerste vragen gekozen moeten worden?"
   ]
  },
  {
   "cell_type": "code",
   "execution_count": 32,
   "id": "rccRoqKVp3FT",
   "metadata": {
    "id": "rccRoqKVp3FT"
   },
   "outputs": [
    {
     "data": {
      "text/plain": [
       "3003.0"
      ]
     },
     "execution_count": 32,
     "metadata": {},
     "output_type": "execute_result"
    }
   ],
   "source": [
    "import math as m\n",
    "def combinatie (n,k):\n",
    "    uitkomst = m.factorial(n) / (m.factorial(k)*m.factorial(n-k))\n",
    "    return uitkomst\n",
    "\n",
    "combinatie(15,10)"
   ]
  },
  {
   "cell_type": "code",
   "execution_count": 34,
   "metadata": {},
   "outputs": [
    {
     "data": {
      "text/plain": [
       "1287.0"
      ]
     },
     "execution_count": 34,
     "metadata": {},
     "output_type": "execute_result"
    }
   ],
   "source": [
    "import math as m\n",
    "def combinatie (n,k):\n",
    "    uitkomst = m.factorial(n) / (m.factorial(k)*m.factorial(n-k))\n",
    "    return uitkomst\n",
    "\n",
    "combinatie(13,8)"
   ]
  },
  {
   "cell_type": "code",
   "execution_count": 35,
   "id": "329216ca",
   "metadata": {},
   "outputs": [
    {
     "data": {
      "text/plain": [
       "2002.0"
      ]
     },
     "execution_count": 35,
     "metadata": {},
     "output_type": "execute_result"
    }
   ],
   "source": [
    "import math as m\n",
    "def combinatie (n,k):\n",
    "    uitkomst = m.factorial(n) / (m.factorial(k)*m.factorial(n-k))\n",
    "    return uitkomst\n",
    "\n",
    "combinatie(14,9)"
   ]
  },
  {
   "cell_type": "markdown",
   "id": "-OQxEtnSvs3O",
   "metadata": {
    "id": "-OQxEtnSvs3O"
   },
   "source": [
    "### Oefening 15\n",
    "\n",
    "De hellingsgraad is een maat om de steilheid van een hellend vlak weer te geven. De hellingsgraad\n",
    "wordt veelal uitgedrukt in percentages (%). De hellingsgraad is gelijk aan het hoogteverschil $\\Delta h$ gedeeld door de horizontale afstand\n",
    "$$\n",
    "\\frac{\\Delta h}{d}\n",
    "$$\n",
    "Een andere maat voor de steilheid is de hellingshoek (meestal in graden ◦) die het wegdek maakt\n",
    "met het horizontale vlak. Deze vind je als volgt:\n",
    "$$\n",
    "arctan(\\frac{\\Delta h}{d})\n",
    "$$\n",
    "\n",
    "- Schrijf een functie _hellingsgraad_ om de hellingsgraad te bereken uit het hoogteverschil en de horizontal afstand. Welke hellingsgraad bekom je als 100m stijgt over een afgelegde weg van 2000 meter. Print een percentage uit.\n",
    "\n",
    "- Schrijf een functie _hellingshoek_ om de hellingshoek te berekenen uit het hoogteverschil en de horizontal afstand. Welke hellingshoek bekom je als 100m stijgt over een afgelegde weg van 2000 meter. Print je hoek in graden uit (niet in radialen).\n"
   ]
  },
  {
   "cell_type": "code",
   "execution_count": 37,
   "id": "xDNloBjwp830",
   "metadata": {
    "id": "xDNloBjwp830"
   },
   "outputs": [
    {
     "data": {
      "text/plain": [
       "'5.0%'"
      ]
     },
     "execution_count": 37,
     "metadata": {},
     "output_type": "execute_result"
    }
   ],
   "source": [
    "def hellingsgraad (hoogteverschil, hozizontale_afstand):\n",
    "    percentage = hoogteverschil / hozizontale_afstand *100\n",
    "    return f\"{percentage}%\"\n",
    "\n",
    "hellingsgraad(100,2000)"
   ]
  },
  {
   "cell_type": "code",
   "execution_count": 42,
   "metadata": {},
   "outputs": [
    {
     "data": {
      "text/plain": [
       "'2.862405226111748°'"
      ]
     },
     "execution_count": 42,
     "metadata": {},
     "output_type": "execute_result"
    }
   ],
   "source": [
    "import math as m\n",
    "def hellingshoek (hoogteverschil, hozizontale_afstand):\n",
    "    graden = m.degrees(m.atan(hoogteverschil / hozizontale_afstand))\n",
    "    return f\"{graden}°\"\n",
    "\n",
    "hellingshoek(100,2000)"
   ]
  },
  {
   "cell_type": "markdown",
   "id": "phS6uXx4nkeS",
   "metadata": {
    "id": "phS6uXx4nkeS"
   },
   "source": [
    "### Oefening 16\n",
    "\n",
    "De Haversine formule bepaalt de kortste afstand tussen twee posities op een sfeer, langs het oppervlak van de sfeer, bij gegeven latitude en longitude coördinaten, zie [haversine distance](https://en.wikipedia.org/wiki/Haversine_formula).\n",
    "\n",
    "Indien $(\\phi_1, \\lambda_1)$ en $(\\phi_2, \\lambda_2)$ respektievelijk de latitude en longitude coördinaten (in decimale graden◦) zijn van twee posities op Aarde met (straal R = 6371 km) dan wordt de afstand $d$ (in kilometers) bepaald door:\n",
    "\n",
    "$$\n",
    "\\begin{eqnarray}{}\n",
    "a &=& sin^2 \\left( \\frac{\\phi_2 -\\phi_1}{2} \\right) + cos\\phi_1 · cos\\phi_2 · sin^2 \\left( \\frac{\\lambda_2 − \\lambda_1}{2} \\right) \\\\\n",
    "c &= &2 · arctan\\left( \\frac{\\sqrt{a} }{\\sqrt{1 - a}} \\right) \\\\\n",
    "d &=& R · c\n",
    "\\end{eqnarray}\n",
    "$$\n",
    "\n",
    "Schrijf een programma dat de latitude en longitude coördinaten (in graden) van twee posities op Aarde krijgt en vervolgens de afstand $d$ ertussen berekent. Neem $R$ op als een constante in je programma. Vergeet niet om de graden eerst om te zetten naar radialen voor je ermee rekent."
   ]
  },
  {
   "cell_type": "code",
   "execution_count": 71,
   "id": "WRozlfHQgTyw",
   "metadata": {
    "id": "WRozlfHQgTyw"
   },
   "outputs": [
    {
     "data": {
      "text/plain": [
       "0.0"
      ]
     },
     "execution_count": 71,
     "metadata": {},
     "output_type": "execute_result"
    }
   ],
   "source": [
    "import math  as m\n",
    "STRAAL = 6371\n",
    "\n",
    "def afstand (latitude1, longitude1, latitude2, longitude2):\n",
    "    a = m.sin(((latitude2 - latitude1) / 2) ** 2 )+ m.cos(latitude1) * m.cos(latitude2) * m.sin(((latitude2-latitude1) / 2) ** 2)\n",
    "    c = 2 * m.atan(m.sqrt(a) / m.sqrt(1-a))\n",
    "    d = STRAAL * c\n",
    "    return d\n",
    "\n",
    "afstand(4,4,4,4)"
   ]
  }
 ],
 "metadata": {
  "colab": {
   "provenance": []
  },
  "kernelspec": {
   "display_name": "Python 3 (ipykernel)",
   "language": "python",
   "name": "python3"
  },
  "language_info": {
   "codemirror_mode": {
    "name": "ipython",
    "version": 3
   },
   "file_extension": ".py",
   "mimetype": "text/x-python",
   "name": "python",
   "nbconvert_exporter": "python",
   "pygments_lexer": "ipython3",
   "version": "3.12.0"
  }
 },
 "nbformat": 4,
 "nbformat_minor": 5
}
